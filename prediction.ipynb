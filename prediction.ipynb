{
 "cells": [
  {
   "cell_type": "code",
   "execution_count": 1,
   "id": "285c33da-91c6-46d0-b087-7014288bd204",
   "metadata": {},
   "outputs": [],
   "source": [
    "# 1. IMPORT LIBRARIES\n",
    "import pandas as pd\n",
    "from sklearn.metrics import accuracy_score\n",
    "from sklearn.metrics import precision_score"
   ]
  },
  {
   "cell_type": "code",
   "execution_count": 2,
   "id": "f9f9befd-8fb5-4335-85b3-727d53a68929",
   "metadata": {},
   "outputs": [],
   "source": [
    "# 2. DATA LOADING AND INITIAL PREPROCESSING\n",
    "# Membaca dataset dari file CSV\n",
    "matches = pd.read_csv(\"matches.csv\", index_col=0)\n",
    "\n",
    "# Menghapus kolom yang tidak relevan\n",
    "del matches[\"comp\"]  # Menghapus kolom 'comp' karena hanya satu kompetisi\n",
    "del matches[\"notes\"]  # Menghapus kolom 'notes' karena tidak relevan\n",
    "\n",
    "# Mengubah kolom 'date' menjadi tipe datetime\n",
    "matches[\"date\"] = pd.to_datetime(matches[\"date\"])\n",
    "\n",
    "# Membuat kolom target untuk hasil pertandingan (1 untuk menang, 0 untuk tidak)\n",
    "matches[\"target\"] = (matches[\"result\"] == \"W\").astype(\"int\")\n",
    "\n",
    "# Menambahkan kode untuk venue dan lawan\n",
    "matches[\"venue_code\"] = matches[\"venue\"].astype(\"category\").cat.codes\n",
    "matches[\"opp_code\"] = matches[\"opponent\"].astype(\"category\").cat.codes\n",
    "\n",
    "# Mengambil jam dari kolom 'time'\n",
    "matches[\"hour\"] = matches[\"time\"].str.replace(\":.+\", \"\", regex=True).astype(\"int\")\n",
    "\n",
    "# Mengambil kode hari dari tanggal\n",
    "matches[\"day_code\"] = matches[\"date\"].dt.dayofweek\n",
    "\n",
    "matches = matches.reset_index(drop=True)"
   ]
  },
  {
   "cell_type": "code",
   "execution_count": 3,
   "id": "3fb12d0b-9a2a-4a1c-9449-a4bf7cfea97f",
   "metadata": {},
   "outputs": [],
   "source": [
    "# 3. FEATURE ENGINEERING\n",
    "# Add team performance metrics\n",
    "matches['goals_scored'] = matches.groupby('team')['gf'].transform(lambda x: x.rolling(window=5).mean()).fillna(0)\n",
    "matches['goals_conceded'] = matches.groupby('team')['ga'].transform(lambda x: x.rolling(window=5).mean()).fillna(0)\n",
    "matches['shots_ratio'] = matches['sh'] / matches['sot'].replace(0, 1)"
   ]
  },
  {
   "cell_type": "code",
   "execution_count": 4,
   "id": "b83893da-41a9-4c9f-9be5-16eff1585f4b",
   "metadata": {},
   "outputs": [
    {
     "data": {
      "text/html": [
       "<style>#sk-container-id-1 {color: black;background-color: white;}#sk-container-id-1 pre{padding: 0;}#sk-container-id-1 div.sk-toggleable {background-color: white;}#sk-container-id-1 label.sk-toggleable__label {cursor: pointer;display: block;width: 100%;margin-bottom: 0;padding: 0.3em;box-sizing: border-box;text-align: center;}#sk-container-id-1 label.sk-toggleable__label-arrow:before {content: \"▸\";float: left;margin-right: 0.25em;color: #696969;}#sk-container-id-1 label.sk-toggleable__label-arrow:hover:before {color: black;}#sk-container-id-1 div.sk-estimator:hover label.sk-toggleable__label-arrow:before {color: black;}#sk-container-id-1 div.sk-toggleable__content {max-height: 0;max-width: 0;overflow: hidden;text-align: left;background-color: #f0f8ff;}#sk-container-id-1 div.sk-toggleable__content pre {margin: 0.2em;color: black;border-radius: 0.25em;background-color: #f0f8ff;}#sk-container-id-1 input.sk-toggleable__control:checked~div.sk-toggleable__content {max-height: 200px;max-width: 100%;overflow: auto;}#sk-container-id-1 input.sk-toggleable__control:checked~label.sk-toggleable__label-arrow:before {content: \"▾\";}#sk-container-id-1 div.sk-estimator input.sk-toggleable__control:checked~label.sk-toggleable__label {background-color: #d4ebff;}#sk-container-id-1 div.sk-label input.sk-toggleable__control:checked~label.sk-toggleable__label {background-color: #d4ebff;}#sk-container-id-1 input.sk-hidden--visually {border: 0;clip: rect(1px 1px 1px 1px);clip: rect(1px, 1px, 1px, 1px);height: 1px;margin: -1px;overflow: hidden;padding: 0;position: absolute;width: 1px;}#sk-container-id-1 div.sk-estimator {font-family: monospace;background-color: #f0f8ff;border: 1px dotted black;border-radius: 0.25em;box-sizing: border-box;margin-bottom: 0.5em;}#sk-container-id-1 div.sk-estimator:hover {background-color: #d4ebff;}#sk-container-id-1 div.sk-parallel-item::after {content: \"\";width: 100%;border-bottom: 1px solid gray;flex-grow: 1;}#sk-container-id-1 div.sk-label:hover label.sk-toggleable__label {background-color: #d4ebff;}#sk-container-id-1 div.sk-serial::before {content: \"\";position: absolute;border-left: 1px solid gray;box-sizing: border-box;top: 0;bottom: 0;left: 50%;z-index: 0;}#sk-container-id-1 div.sk-serial {display: flex;flex-direction: column;align-items: center;background-color: white;padding-right: 0.2em;padding-left: 0.2em;position: relative;}#sk-container-id-1 div.sk-item {position: relative;z-index: 1;}#sk-container-id-1 div.sk-parallel {display: flex;align-items: stretch;justify-content: center;background-color: white;position: relative;}#sk-container-id-1 div.sk-item::before, #sk-container-id-1 div.sk-parallel-item::before {content: \"\";position: absolute;border-left: 1px solid gray;box-sizing: border-box;top: 0;bottom: 0;left: 50%;z-index: -1;}#sk-container-id-1 div.sk-parallel-item {display: flex;flex-direction: column;z-index: 1;position: relative;background-color: white;}#sk-container-id-1 div.sk-parallel-item:first-child::after {align-self: flex-end;width: 50%;}#sk-container-id-1 div.sk-parallel-item:last-child::after {align-self: flex-start;width: 50%;}#sk-container-id-1 div.sk-parallel-item:only-child::after {width: 0;}#sk-container-id-1 div.sk-dashed-wrapped {border: 1px dashed gray;margin: 0 0.4em 0.5em 0.4em;box-sizing: border-box;padding-bottom: 0.4em;background-color: white;}#sk-container-id-1 div.sk-label label {font-family: monospace;font-weight: bold;display: inline-block;line-height: 1.2em;}#sk-container-id-1 div.sk-label-container {text-align: center;}#sk-container-id-1 div.sk-container {/* jupyter's `normalize.less` sets `[hidden] { display: none; }` but bootstrap.min.css set `[hidden] { display: none !important; }` so we also need the `!important` here to be able to override the default hidden behavior on the sphinx rendered scikit-learn.org. See: https://github.com/scikit-learn/scikit-learn/issues/21755 */display: inline-block !important;position: relative;}#sk-container-id-1 div.sk-text-repr-fallback {display: none;}</style><div id=\"sk-container-id-1\" class=\"sk-top-container\"><div class=\"sk-text-repr-fallback\"><pre>RandomForestClassifier(max_depth=8, min_samples_leaf=5, min_samples_split=5,\n",
       "                       random_state=1)</pre><b>In a Jupyter environment, please rerun this cell to show the HTML representation or trust the notebook. <br />On GitHub, the HTML representation is unable to render, please try loading this page with nbviewer.org.</b></div><div class=\"sk-container\" hidden><div class=\"sk-item\"><div class=\"sk-estimator sk-toggleable\"><input class=\"sk-toggleable__control sk-hidden--visually\" id=\"sk-estimator-id-1\" type=\"checkbox\" checked><label for=\"sk-estimator-id-1\" class=\"sk-toggleable__label sk-toggleable__label-arrow\">RandomForestClassifier</label><div class=\"sk-toggleable__content\"><pre>RandomForestClassifier(max_depth=8, min_samples_leaf=5, min_samples_split=5,\n",
       "                       random_state=1)</pre></div></div></div></div></div>"
      ],
      "text/plain": [
       "RandomForestClassifier(max_depth=8, min_samples_leaf=5, min_samples_split=5,\n",
       "                       random_state=1)"
      ]
     },
     "execution_count": 4,
     "metadata": {},
     "output_type": "execute_result"
    }
   ],
   "source": [
    "# 4. MODEL SETUP AND TRAINING\n",
    "# Menyiapkan model Random Forest\n",
    "from sklearn.ensemble import RandomForestClassifier\n",
    "rf = RandomForestClassifier(n_estimators=100, max_depth=8, min_samples_split=5, min_samples_leaf=5, max_features='sqrt', random_state=1)\n",
    "\n",
    "# Memisahkan data menjadi data pelatihan dan pengujian\n",
    "train = matches[matches[\"date\"] < '2022-01-01']\n",
    "test = matches[matches[\"date\"] > '2022-01-01']\n",
    "\n",
    "# Mendefinisikan fitur yang digunakan untuk prediksi\n",
    "predictors = [\"venue_code\", \"opp_code\", \"hour\", \"day_code\", \"goals_scored\", \"goals_conceded\", \"shots_ratio\"]\n",
    "\n",
    "# Melatih model dengan data pelatihan\n",
    "rf.fit(train[predictors], train[\"target\"])\n"
   ]
  },
  {
   "cell_type": "code",
   "execution_count": 5,
   "id": "d56c7e95-01fc-4b43-894f-0ff6339245e5",
   "metadata": {},
   "outputs": [
    {
     "name": "stdout",
     "output_type": "stream",
     "text": [
      "Akurasi Model: 0.7391\n",
      "Error (Accuracy): 0.7391304347826086\n",
      "predicted    0   1\n",
      "actual            \n",
      "0          149  23\n",
      "1           49  55\n",
      "Precision Score: 0.7051282051282052\n"
     ]
    }
   ],
   "source": [
    "# 5. MODEL EVALUATION\n",
    "# Menghitung akurasi pada data pengujian\n",
    "accuracy = rf.score(test[predictors], test[\"target\"])\n",
    "print(f\"Akurasi Model: {accuracy:.4f}\")\n",
    "\n",
    "# Melakukan prediksi pada data pengujian\n",
    "preds = rf.predict(test[predictors])\n",
    "\n",
    "# Menghitung akurasi model\n",
    "error = accuracy_score(test[\"target\"], preds)\n",
    "print(\"Error (Accuracy):\", error)\n",
    "\n",
    "# Menggabungkan hasil aktual dan prediksi\n",
    "combined = pd.DataFrame(dict(actual=test[\"target\"], predicted=preds))\n",
    "\n",
    "# Menampilkan tabel kontingensi untuk hasil aktual dan prediksi\n",
    "print(pd.crosstab(index=combined[\"actual\"], columns=combined[\"predicted\"]))\n",
    "\n",
    "# Menghitung precision score\n",
    "precision = precision_score(test[\"target\"], preds)\n",
    "print(\"Precision Score:\", precision)\n",
    "\n",
    "# Mengelompokkan pertandingan berdasarkan tim\n",
    "grouped_matches = matches.groupby(\"team\")\n",
    "group = grouped_matches.get_group(\"Manchester City\").sort_values(\"date\")"
   ]
  },
  {
   "cell_type": "code",
   "execution_count": 6,
   "id": "e6105eee",
   "metadata": {},
   "outputs": [],
   "source": [
    "# 6. ROLLING AVERAGES CALCULATION\n",
    "# Fungsi untuk menghitung rolling averages\n",
    "def rolling_averages(group, cols, new_cols):\n",
    "    group = group.sort_values(\"date\")\n",
    "    rolling_stats = group[cols].rolling(3, closed='left').mean()\n",
    "    group[new_cols] = rolling_stats\n",
    "    group = group.dropna(subset=new_cols)\n",
    "    return group\n",
    "\n",
    "# Kolom yang digunakan untuk rolling averages\n",
    "cols = [\"gf\", \"ga\", \"sh\", \"sot\", \"dist\", \"fk\", \"pk\", \"pkatt\"]\n",
    "new_cols = [f\"{c}_rolling\" for c in cols]\n",
    "\n",
    "# Menghitung rolling averages untuk setiap tim\n",
    "matches_rolling = matches.groupby(\"team\").apply(lambda x: rolling_averages(x, cols, new_cols))\n",
    "matches_rolling = matches_rolling.droplevel('team')  # Menghapus level multi-index\n",
    "matches_rolling.index = range(matches_rolling.shape[0])  # Mengatur ulang index"
   ]
  },
  {
   "cell_type": "code",
   "execution_count": 7,
   "id": "e89f5d85",
   "metadata": {},
   "outputs": [
    {
     "name": "stdout",
     "output_type": "stream",
     "text": [
      "Error (Precision): 0.7794117647058824\n",
      "    actual  predicted       date     team        opponent result\n",
      "55       0          1 2022-01-23  Arsenal         Burnley      D\n",
      "56       1          0 2022-02-10  Arsenal          Wolves      W\n",
      "57       1          1 2022-02-19  Arsenal       Brentford      W\n",
      "58       1          0 2022-02-24  Arsenal          Wolves      W\n",
      "59       1          0 2022-03-06  Arsenal         Watford      W\n",
      "60       1          1 2022-03-13  Arsenal  Leicester City      W\n",
      "61       0          0 2022-03-16  Arsenal       Liverpool      L\n",
      "62       1          1 2022-03-19  Arsenal     Aston Villa      W\n",
      "63       0          0 2022-04-04  Arsenal  Crystal Palace      L\n",
      "64       0          0 2022-04-09  Arsenal        Brighton      L\n"
     ]
    }
   ],
   "source": [
    "# 7. PREDICTION FUNCTIONS\n",
    "# Fungsi untuk membuat prediksi\n",
    "def make_predictions(data, predictors):\n",
    "    train = data[data[\"date\"] < '2022-01-01']\n",
    "    test = data[data[\"date\"] > '2022-01-01']\n",
    "    rf.fit(train[predictors], train[\"target\"])\n",
    "    preds = rf.predict(test[predictors])\n",
    "    combined = pd.DataFrame(dict(actual=test[\"target\"], predicted=preds), index=test.index)\n",
    "    error = precision_score(test[\"target\"], preds)\n",
    "    return combined, error\n",
    "\n",
    "# Membuat prediksi dan menghitung error\n",
    "combined, error = make_predictions(matches_rolling, predictors + new_cols)\n",
    "print(\"Error (Precision):\", error)\n",
    "\n",
    "# Menggabungkan hasil prediksi dengan informasi tambahan dari matches_rolling\n",
    "combined = combined.merge(matches_rolling[[\"date\", \"team\", \"opponent\", \"result\"]], left_index=True, right_index=True)\n",
    "\n",
    "# Menampilkan 10 baris pertama dari hasil gabungan\n",
    "print(combined.head(10))"
   ]
  },
  {
   "cell_type": "code",
   "execution_count": 8,
   "id": "40c148f7",
   "metadata": {},
   "outputs": [
    {
     "name": "stdout",
     "output_type": "stream",
     "text": [
      "actual_x\n",
      "1    50\n",
      "0    10\n",
      "Name: count, dtype: int64\n",
      "\n"
     ]
    }
   ],
   "source": [
    "# 8. TEAM MAPPING AND DATA HANDLING\n",
    "# Mendefinisikan kelas untuk menangani nilai yang hilang\n",
    "class MissingDict(dict):\n",
    "    __missing__ = lambda self, key: key\n",
    "\n",
    "# Pemetaan nama tim untuk konsistensi\n",
    "map_values = {\n",
    "    \"Brighton and Hove Albion\": \"Brighton\",\n",
    "    \"Manchester United\": \"Manchester Utd\",\n",
    "    \"Newcastle United\": \"Newcastle Utd\",\n",
    "    \"Tottenham Hotspur\": \"Tottenham\",\n",
    "    \"West Ham United\": \"West Ham\",\n",
    "    \"Wolverhampton Wanderers\": \"Wolves\"\n",
    "}\n",
    "mapping = MissingDict(**map_values)\n",
    "\n",
    "# Menambahkan kolom baru untuk nama tim yang dipetakan\n",
    "combined[\"new_team\"] = combined[\"team\"].map(mapping)\n",
    "\n",
    "# Menggabungkan hasil prediksi dengan informasi tim baru\n",
    "merged = combined.merge(combined, left_on=[\"date\", \"new_team\"], right_on=[\"date\", \"opponent\"])\n",
    "\n",
    "# Menampilkan hasil analisis untuk prediksi yang benar dan salah\n",
    "result_counts = merged[(merged[\"predicted_x\"] == 1) & (merged[\"predicted_y\"] == 0)][\"actual_x\"].value_counts()\n",
    "print(result_counts)\n",
    "print()\n"
   ]
  },
  {
   "cell_type": "code",
   "execution_count": 9,
   "id": "7925c7b6",
   "metadata": {},
   "outputs": [],
   "source": [
    "# 9. MATCH PREDICTION IMPLEMENTATION\n",
    "# First, prepare the data for both teams with rolling averages\n",
    "def prepare_team_data(team_name, opponent_name, venue_code, hour, day_code):\n",
    "    base_data = {\n",
    "        'venue_code': [venue_code],\n",
    "        'opp_code': [matches[matches['team'] == opponent_name]['opp_code'].iloc[0]],\n",
    "        'hour': [hour],\n",
    "        'day_code': [day_code],\n",
    "        'goals_scored': [matches[matches['team'] == team_name]['goals_scored'].mean()],\n",
    "        'goals_conceded': [matches[matches['team'] == team_name]['goals_conceded'].mean()],\n",
    "        'shots_ratio': [matches[matches['team'] == team_name]['shots_ratio'].mean()]\n",
    "    }\n",
    "    \n",
    "    # Add rolling averages\n",
    "    for col in cols:\n",
    "        base_data[f'{col}_rolling'] = [matches[matches['team'] == team_name][col].mean()]\n",
    "    \n",
    "    return pd.DataFrame(base_data)"
   ]
  },
  {
   "cell_type": "code",
   "execution_count": 10,
   "id": "8217a4eb",
   "metadata": {},
   "outputs": [
    {
     "name": "stdout",
     "output_type": "stream",
     "text": [
      "Jumlah hasil yang diprediksi 1 dan sebenarnya 1: 50\n",
      "Total hasil yang sebenarnya (1 dan 0): 60\n",
      "Accuracy Model: 0.83\n",
      "Training Accuracy: 0.8377\n",
      "Test Accuracy: 0.7500\n",
      "Difference: 0.0877\n"
     ]
    }
   ],
   "source": [
    "# 10. ACCURACY ANALYSIS\n",
    "# Menghitung jumlah total hasil yang sebenarnya (1 dan 0)\n",
    "total_actual = result_counts.sum()\n",
    "\n",
    "# Menghitung jumlah hasil yang diprediksi 1 dan sebenarnya 1\n",
    "predicted_correct = result_counts.get(1, 0)  # Menggunakan get untuk menghindari KeyError jika 1 tidak ada\n",
    "\n",
    "# Menghitung proporsi\n",
    "proportion = predicted_correct / total_actual if total_actual > 0 else 0\n",
    "\n",
    "# Mencetak hasil\n",
    "print(f\"Jumlah hasil yang diprediksi 1 dan sebenarnya 1: {predicted_correct}\")\n",
    "print(f\"Total hasil yang sebenarnya (1 dan 0): {total_actual}\")\n",
    "print(f\"Accuracy Model: {proportion:.2f}\")\n",
    "\n",
    "# First retrain the model with the correct feature set\n",
    "predictors = [\"venue_code\", \"opp_code\", \"hour\", \"day_code\", \"goals_scored\", \"goals_conceded\", \"shots_ratio\"]\n",
    "\n",
    "# Create new RandomForestClassifier instance\n",
    "rf_new = RandomForestClassifier(n_estimators=100, max_depth=8, min_samples_split=5, min_samples_leaf=5, max_features='sqrt', random_state=1)\n",
    "\n",
    "# Train with matching features\n",
    "train_mask = matches_rolling[\"date\"] < '2022-01-01'\n",
    "test_mask = matches_rolling[\"date\"] > '2022-01-01'\n",
    "\n",
    "train_data = matches_rolling[train_mask]\n",
    "test_data = matches_rolling[test_mask]\n",
    "\n",
    "# Fit the model with the correct features\n",
    "rf_new.fit(train_data[predictors], train_data['target'])\n",
    "\n",
    "# Calculate performance metrics\n",
    "train_preds = rf_new.predict(train_data[predictors])\n",
    "train_accuracy = accuracy_score(train_data['target'], train_preds)\n",
    "\n",
    "test_preds = rf_new.predict(test_data[predictors])\n",
    "test_accuracy = accuracy_score(test_data['target'], test_preds)\n",
    "\n",
    "print(f\"Training Accuracy: {train_accuracy:.4f}\")\n",
    "print(f\"Test Accuracy: {test_accuracy:.4f}\")\n",
    "print(f\"Difference: {train_accuracy - test_accuracy:.4f}\")"
   ]
  }
 ],
 "metadata": {
  "kernelspec": {
   "display_name": "base",
   "language": "python",
   "name": "python3"
  },
  "language_info": {
   "codemirror_mode": {
    "name": "ipython",
    "version": 3
   },
   "file_extension": ".py",
   "mimetype": "text/x-python",
   "name": "python",
   "nbconvert_exporter": "python",
   "pygments_lexer": "ipython3",
   "version": "3.11.7"
  }
 },
 "nbformat": 4,
 "nbformat_minor": 5
}
