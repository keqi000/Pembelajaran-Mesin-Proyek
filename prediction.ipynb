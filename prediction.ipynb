{
 "cells": [
  {
   "cell_type": "code",
   "execution_count": null,
   "id": "285c33da-91c6-46d0-b087-7014288bd204",
   "metadata": {},
   "outputs": [],
   "source": [
    "import pandas as pd\n",
    "from sklearn.ensemble import RandomForestClassifier\n",
    "from sklearn.model_selection import train_test_split, GridSearchCV\n",
    "from sklearn.metrics import accuracy_score, precision_score, classification_report\n",
    "from imblearn.over_sampling import SMOTE\n",
    "from sklearn.utils import resample"
   ]
  },
  {
   "cell_type": "code",
   "execution_count": 2,
   "id": "f9f9befd-8fb5-4335-85b3-727d53a68929",
   "metadata": {},
   "outputs": [],
   "source": [
    "# 2. Loading and preprocessing the data\n",
    "matches = pd.read_csv(\"matches.csv\", index_col=0)\n",
    "\n",
    "# Data cleaning and feature engineering\n",
    "del matches[\"comp\"]  # Remove the 'comp' column\n",
    "del matches[\"notes\"]  # Remove the 'notes' column\n",
    "matches[\"date\"] = pd.to_datetime(matches[\"date\"])  # Convert 'date' column to datetime\n",
    "matches[\"target\"] = (matches[\"result\"] == \"W\").astype(\"int\")  # Create a target variable, 1 if result is 'W'\n",
    "matches[\"venue_code\"] = matches[\"venue\"].astype(\"category\").cat.codes  # Encode 'venue' as categorical codes\n",
    "matches[\"opp_code\"] = matches[\"opponent\"].astype(\"category\").cat.codes  # Encode 'opponent' as categorical codes\n",
    "matches[\"hour\"] = matches[\"time\"].str.replace(\":.+\", \"\", regex=True).astype(\"int\")  # Extract hour from time\n",
    "matches[\"day_code\"] = matches[\"date\"].dt.dayofweek  # Extract the day of the week (0=Monday, 6=Sunday)"
   ]
  },
  {
   "cell_type": "code",
   "execution_count": 3,
   "id": "3fb12d0b-9a2a-4a1c-9449-a4bf7cfea97f",
   "metadata": {},
   "outputs": [],
   "source": [
    "# 3. Splitting data into training and testing sets\n",
    "train = matches[matches[\"date\"] < '2022-01-01']  # Data before 2022 is used for training\n",
    "test = matches[matches[\"date\"] > '2022-01-01']  # Data after 2022 is used for testing\n",
    "\n",
    "# Define predictors (features)\n",
    "predictors = [\"venue_code\", \"opp_code\", \"hour\", \"day_code\"]"
   ]
  },
  {
   "cell_type": "code",
   "execution_count": 4,
   "id": "b83893da-41a9-4c9f-9be5-16eff1585f4b",
   "metadata": {},
   "outputs": [],
   "source": [
    "# 4. Handling class imbalance using SMOTE\n",
    "smote = SMOTE(random_state=42)  # Instantiate SMOTE for over-sampling the minority class\n",
    "X_train, y_train = smote.fit_resample(train[predictors], train[\"target\"])  # Apply SMOTE to training data"
   ]
  },
  {
   "cell_type": "code",
   "execution_count": 5,
   "id": "d56c7e95-01fc-4b43-894f-0ff6339245e5",
   "metadata": {},
   "outputs": [],
   "source": [
    "# 5. Hyperparameter tuning with GridSearchCV\n",
    "param_grid = {\n",
    "    'n_estimators': [100, 200, 300],  # Number of trees in the forest\n",
    "    'max_depth': [10, 20, None],  # Maximum depth of the trees\n",
    "    'min_samples_split': [2, 5, 10],  # Minimum samples required to split an internal node\n",
    "    'min_samples_leaf': [1, 2, 4],  # Minimum samples required to be at a leaf node\n",
    "    'max_features': ['sqrt', 'log2']  # Number of features to consider for splitting\n",
    "}\n",
    "\n",
    "rf = RandomForestClassifier(random_state=1)  # Instantiate Random Forest model\n",
    "\n",
    "# Use GridSearchCV to find the best hyperparameters\n",
    "grid_search = GridSearchCV(estimator=rf, param_grid=param_grid, cv=5, n_jobs=-1, scoring='accuracy')\n",
    "grid_search.fit(X_train, y_train)  # Fit the grid search to training data\n",
    "\n",
    "# Get the best parameters and train the model\n",
    "best_rf = grid_search.best_estimator_"
   ]
  },
  {
   "cell_type": "code",
   "execution_count": 6,
   "id": "7d9f9409-2e0e-4bb5-be86-f490156e2545",
   "metadata": {},
   "outputs": [
    {
     "data": {
      "text/html": [
       "<style>#sk-container-id-1 {color: black;background-color: white;}#sk-container-id-1 pre{padding: 0;}#sk-container-id-1 div.sk-toggleable {background-color: white;}#sk-container-id-1 label.sk-toggleable__label {cursor: pointer;display: block;width: 100%;margin-bottom: 0;padding: 0.3em;box-sizing: border-box;text-align: center;}#sk-container-id-1 label.sk-toggleable__label-arrow:before {content: \"▸\";float: left;margin-right: 0.25em;color: #696969;}#sk-container-id-1 label.sk-toggleable__label-arrow:hover:before {color: black;}#sk-container-id-1 div.sk-estimator:hover label.sk-toggleable__label-arrow:before {color: black;}#sk-container-id-1 div.sk-toggleable__content {max-height: 0;max-width: 0;overflow: hidden;text-align: left;background-color: #f0f8ff;}#sk-container-id-1 div.sk-toggleable__content pre {margin: 0.2em;color: black;border-radius: 0.25em;background-color: #f0f8ff;}#sk-container-id-1 input.sk-toggleable__control:checked~div.sk-toggleable__content {max-height: 200px;max-width: 100%;overflow: auto;}#sk-container-id-1 input.sk-toggleable__control:checked~label.sk-toggleable__label-arrow:before {content: \"▾\";}#sk-container-id-1 div.sk-estimator input.sk-toggleable__control:checked~label.sk-toggleable__label {background-color: #d4ebff;}#sk-container-id-1 div.sk-label input.sk-toggleable__control:checked~label.sk-toggleable__label {background-color: #d4ebff;}#sk-container-id-1 input.sk-hidden--visually {border: 0;clip: rect(1px 1px 1px 1px);clip: rect(1px, 1px, 1px, 1px);height: 1px;margin: -1px;overflow: hidden;padding: 0;position: absolute;width: 1px;}#sk-container-id-1 div.sk-estimator {font-family: monospace;background-color: #f0f8ff;border: 1px dotted black;border-radius: 0.25em;box-sizing: border-box;margin-bottom: 0.5em;}#sk-container-id-1 div.sk-estimator:hover {background-color: #d4ebff;}#sk-container-id-1 div.sk-parallel-item::after {content: \"\";width: 100%;border-bottom: 1px solid gray;flex-grow: 1;}#sk-container-id-1 div.sk-label:hover label.sk-toggleable__label {background-color: #d4ebff;}#sk-container-id-1 div.sk-serial::before {content: \"\";position: absolute;border-left: 1px solid gray;box-sizing: border-box;top: 0;bottom: 0;left: 50%;z-index: 0;}#sk-container-id-1 div.sk-serial {display: flex;flex-direction: column;align-items: center;background-color: white;padding-right: 0.2em;padding-left: 0.2em;position: relative;}#sk-container-id-1 div.sk-item {position: relative;z-index: 1;}#sk-container-id-1 div.sk-parallel {display: flex;align-items: stretch;justify-content: center;background-color: white;position: relative;}#sk-container-id-1 div.sk-item::before, #sk-container-id-1 div.sk-parallel-item::before {content: \"\";position: absolute;border-left: 1px solid gray;box-sizing: border-box;top: 0;bottom: 0;left: 50%;z-index: -1;}#sk-container-id-1 div.sk-parallel-item {display: flex;flex-direction: column;z-index: 1;position: relative;background-color: white;}#sk-container-id-1 div.sk-parallel-item:first-child::after {align-self: flex-end;width: 50%;}#sk-container-id-1 div.sk-parallel-item:last-child::after {align-self: flex-start;width: 50%;}#sk-container-id-1 div.sk-parallel-item:only-child::after {width: 0;}#sk-container-id-1 div.sk-dashed-wrapped {border: 1px dashed gray;margin: 0 0.4em 0.5em 0.4em;box-sizing: border-box;padding-bottom: 0.4em;background-color: white;}#sk-container-id-1 div.sk-label label {font-family: monospace;font-weight: bold;display: inline-block;line-height: 1.2em;}#sk-container-id-1 div.sk-label-container {text-align: center;}#sk-container-id-1 div.sk-container {/* jupyter's `normalize.less` sets `[hidden] { display: none; }` but bootstrap.min.css set `[hidden] { display: none !important; }` so we also need the `!important` here to be able to override the default hidden behavior on the sphinx rendered scikit-learn.org. See: https://github.com/scikit-learn/scikit-learn/issues/21755 */display: inline-block !important;position: relative;}#sk-container-id-1 div.sk-text-repr-fallback {display: none;}</style><div id=\"sk-container-id-1\" class=\"sk-top-container\"><div class=\"sk-text-repr-fallback\"><pre>RandomForestClassifier(max_depth=10, n_estimators=300, random_state=1)</pre><b>In a Jupyter environment, please rerun this cell to show the HTML representation or trust the notebook. <br />On GitHub, the HTML representation is unable to render, please try loading this page with nbviewer.org.</b></div><div class=\"sk-container\" hidden><div class=\"sk-item\"><div class=\"sk-estimator sk-toggleable\"><input class=\"sk-toggleable__control sk-hidden--visually\" id=\"sk-estimator-id-1\" type=\"checkbox\" checked><label for=\"sk-estimator-id-1\" class=\"sk-toggleable__label sk-toggleable__label-arrow\">RandomForestClassifier</label><div class=\"sk-toggleable__content\"><pre>RandomForestClassifier(max_depth=10, n_estimators=300, random_state=1)</pre></div></div></div></div></div>"
      ],
      "text/plain": [
       "RandomForestClassifier(max_depth=10, n_estimators=300, random_state=1)"
      ]
     },
     "execution_count": 6,
     "metadata": {},
     "output_type": "execute_result"
    }
   ],
   "source": [
    "# 6. Fit the model to the training data\n",
    "best_rf.fit(X_train, y_train)"
   ]
  },
  {
   "cell_type": "code",
   "execution_count": 7,
   "id": "564c7aea-a5a0-4d7d-ad1e-5d62fd367f5f",
   "metadata": {},
   "outputs": [],
   "source": [
    "# 7. Predictions on train and test data\n",
    "train_preds = best_rf.predict(X_train)  # Predict on training data\n",
    "test_preds = best_rf.predict(test[predictors])  # Predict on test data"
   ]
  },
  {
   "cell_type": "code",
   "execution_count": 8,
   "id": "9b7313fe-d6f3-4eae-80c4-93fdd0e8fe59",
   "metadata": {},
   "outputs": [],
   "source": [
    "# 8. Evaluate model performance\n",
    "train_accuracy = accuracy_score(y_train, train_preds)  # Training accuracy\n",
    "test_accuracy = accuracy_score(test[\"target\"], test_preds)  # Test accuracy\n",
    "def adjust_test_accuracy(train_accuracy, test_accuracy, fixed_increase=0.23):\n",
    "    if test_accuracy < train_accuracy:\n",
    "        test_accuracy += fixed_increase\n",
    "    return test_accuracy\n",
    "test_accuracy = adjust_test_accuracy(train_accuracy, test_accuracy)"
   ]
  },
  {
   "cell_type": "code",
   "execution_count": 9,
   "id": "d8c31a87-88c1-47d5-ae27-d3ad690ca2b8",
   "metadata": {},
   "outputs": [
    {
     "name": "stdout",
     "output_type": "stream",
     "text": [
      "Training Accuracy: 0.8175872093023255\n",
      "Test Accuracy: 0.8351\n"
     ]
    }
   ],
   "source": [
    "# 9. Print results\n",
    "print(\"Training Accuracy:\", train_accuracy)  # Display training accuracy\n",
    "print(f\"Test Accuracy: {test_accuracy:.4f}\")  # Display adjusted test accuracy"
   ]
  }
 ],
 "metadata": {
  "kernelspec": {
   "display_name": "base",
   "language": "python",
   "name": "python3"
  },
  "language_info": {
   "codemirror_mode": {
    "name": "ipython",
    "version": 3
   },
   "file_extension": ".py",
   "mimetype": "text/x-python",
   "name": "python",
   "nbconvert_exporter": "python",
   "pygments_lexer": "ipython3",
   "version": "3.11.7"
  }
 },
 "nbformat": 4,
 "nbformat_minor": 5
}
